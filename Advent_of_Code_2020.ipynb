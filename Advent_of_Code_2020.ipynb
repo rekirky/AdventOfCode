{
  "nbformat": 4,
  "nbformat_minor": 0,
  "metadata": {
    "colab": {
      "name": "Advent of Code 2020",
      "provenance": [],
      "toc_visible": true,
      "authorship_tag": "ABX9TyMskmgegD9U+j43CX5+4hjt",
      "include_colab_link": true
    },
    "kernelspec": {
      "name": "python3",
      "display_name": "Python 3"
    }
  },
  "cells": [
    {
      "cell_type": "markdown",
      "metadata": {
        "id": "view-in-github",
        "colab_type": "text"
      },
      "source": [
        "<a href=\"https://colab.research.google.com/github/rekirky/AdventOfCode/blob/main/Advent_of_Code_2020.ipynb\" target=\"_parent\"><img src=\"https://colab.research.google.com/assets/colab-badge.svg\" alt=\"Open In Colab\"/></a>"
      ]
    },
    {
      "cell_type": "markdown",
      "metadata": {
        "id": "3movYGX5txcr"
      },
      "source": [
        "---\n",
        "Day 1 - #2020\n",
        "---\n",
        "Q1 - Find two values which sum to 2020 and multiply them together"
      ]
    },
    {
      "cell_type": "code",
      "metadata": {
        "colab": {
          "base_uri": "https://localhost:8080/"
        },
        "id": "ONLMyawbtvV7",
        "outputId": "a6201d56-1ed7-466a-dedc-255ece400439"
      },
      "source": [
        "day1 = [1945,2004,1520,1753,1463,1976,1994,1830,1942,1784,1858,1841,1721,1480,1821,1584,978,1530,1278,1827,889,1922,1996,1992,1819,1847,2010,2002,210,1924,1482,1451,1867,1364,1578,1623,1117,1594,1476,1879,1797,1952,2005,1734,1898,1880,1330,1854,1813,1926,1686,1286,1808,1876,1366,1995,1632,1699,2001,1365,1343,1979,1868,1815,820,1966,1888,1916,1852,1932,1368,1606,1825,1731,1980,1990,1818,1702,1419,1897,1970,1276,1914,1889,1953,1588,1958,1310,1391,1326,1131,1959,1844,1307,1998,1961,1708,1977,1886,1946,1516,1999,1859,1931,1853,1265,1869,1642,1740,1467,1944,1956,1263,1940,1912,1832,1872,1678,1319,1839,1689,1765,1894,1242,1983,1410,1985,1387,1022,1358,860,112,1964,1836,1838,1285,1943,1718,1351,760,1925,1842,1921,1967,1822,1978,1837,1378,1618,1266,2003,1972,666,1321,1938,1616,1892,831,1865,1314,1571,1806,1225,1882,1454,1257,1381,1284,1907,1950,1887,1492,1934,1709,1315,1574,1794,1576,1883,1864,1981,1317,1397,1325,1620,1895,1485,1828,1803,1715,1374,1251,1460,1863,1581,1499,1933,1982,1809,1812]\n",
        "for x in range(0,len(day1)):\n",
        "  for y in range(1,len(day1)):\n",
        "      if day1[x]+day1[y] == 2020:\n",
        "        answer1 = (day1[x]*day1[y])\n",
        "print(\"Day 1 - Q1 answer is : {}\".format(answer1))        \n",
        "        "
      ],
      "execution_count": null,
      "outputs": [
        {
          "output_type": "stream",
          "text": [
            "Day 1 - Q1 answer is : 1005459\n"
          ],
          "name": "stdout"
        }
      ]
    },
    {
      "cell_type": "markdown",
      "metadata": {
        "id": "b9-sJ5aaw3j2"
      },
      "source": [
        "Day 1 Q2 - Product of three values that sum to 2020"
      ]
    },
    {
      "cell_type": "code",
      "metadata": {
        "colab": {
          "base_uri": "https://localhost:8080/"
        },
        "id": "bWsjjeDwuehd",
        "outputId": "9b30664a-e90f-4436-9622-6c6e1a03083e"
      },
      "source": [
        "for x in range(0,len(day1)):\n",
        "  for y in range(1,len(day1)):\n",
        "    for z in range (1,len(day1)):\n",
        "      if day1[x]+day1[y]+day1[z] == 2020:\n",
        "        answer2 = (day1[x]*day1[y]*day1[z])          \n",
        "print (\"Day 1 - Q2 answer is : {}\".format(answer2))"
      ],
      "execution_count": null,
      "outputs": [
        {
          "output_type": "stream",
          "text": [
            "Day 1 - Q2 answer is : 92643264\n"
          ],
          "name": "stdout"
        }
      ]
    },
    {
      "cell_type": "markdown",
      "metadata": {
        "id": "ezkgNS3hz1RI"
      },
      "source": [
        "---\n",
        "# Day 2 - Passwords\n",
        "---\n",
        "Q1 - Check min/max length of password and return accepted passwords"
      ]
    },
    {
      "cell_type": "code",
      "metadata": {
        "id": "p9tpIuM-z075",
        "colab": {
          "base_uri": "https://localhost:8080/"
        },
        "outputId": "2be38f94-2367-4ab1-96df-a3bc94ba2715"
      },
      "source": [
        "passwordlist = ['4-5 m: mmpth','1-7 r: rszchrrrzgr','2-5 w: dgqtwwkwwc','10-11 w: ldslpwbbqwpwtd','3-4 s: sszss','1-6 l: llmjxlbt','8-11 c: ccctccccccw','1-11 l: tllllllplllzjllgz','5-8 j: ljjjjjjqcw','11-12 s: sssssqsslsvhfs','7-10 f: fffffmfqfffffff','3-8 m: mmmsqmmmh','3-9 w: dwzvsttjw','7-8 l: llllflhg','10-13 f: jfkwhzrtktphc','5-6 p: pvldppqvcd','9-17 s: sssssssstssssssscsss','4-7 k: zlwhcwkrckwkskxkgh','12-14 n: nnnnnnwncnnjnn','6-8 g: gkwzbwhgmgrqqlksswg','7-8 d: drpbhdvwddd','6-8 d: dlmphvwbnnddrd','5-6 m: mmzmmmpm','6-13 x: xdcxhkqqxznxwhtxdxt','4-14 c: pncwncdcccccdmwccccc','14-15 s: gsrsssssbsssstkssmb','1-3 m: dhmzmlnfmsm','8-12 l: llmlrllchlwhlktpxdf','3-5 g: njgkglgx','11-14 v: vvvvmwvkvtqvgxvvvlvv','1-4 h: hhhq','1-2 l: dfrmsp','4-5 n: nkknnkrflkpnnn','10-12 w: dwwwwwwlwwww','13-14 h: xnhhhrvwpnkmhx','11-12 l: lllllklrllrx','12-14 d: ldrvtddrddvdqgj','10-11 p: bxpqplqtqzhjv','2-5 t: bmltz','8-10 j: ljjjjjjmjjj','5-6 x: xxxvll','5-7 b: bxbbbbbk','5-11 t: ttjmsttwtdh','2-3 p: dmxxrpnppd','1-4 x: xxxxxgx','3-6 v: vwcvvv','4-5 l: lqpll','14-20 p: psxqnpfpnmpsppppppsp','16-18 g: lgggkgggggggggggglg','3-5 b: tbfbbg','6-8 n: nsnnnnnnnw','2-4 p: dppndlmtnt','11-15 q: tqqqqqqqqqqqqqq','13-14 r: rrrrrrrrrrrrbx','3-6 s: shsssfc','7-9 l: mlghdlhwfbcqmv','1-2 k: mlwk','13-17 v: hbvlqvknvvsvzvvvvv','3-4 g: bmngrgttz','9-10 h: hhmhhhhhtc','1-15 m: nmmmmmmmmmmmmmmm','12-13 k: kkkkkkkkkjnfckk','1-8 k: skkkzkkkk','5-7 j: jjjjjjhj','12-14 g: gmgxwglgggggbggqgg','9-11 p: pppxppqpprlgpp','14-15 j: cpjjjjjjjjjjjjjj','4-12 l: lnblzbdmpwwrbmnr','3-8 d: dddhdmcrddnddnddjl','5-9 g: kghqfsggf','18-20 g: gggggggggggggggggngw','3-5 q: rkqlqfzvwqqqksntqdz','8-16 m: dkmmzgmdmmmhwmxmxm','7-9 q: qnqhtkqqqqqqjvcs','1-3 m: mmlm','1-10 b: bjfkmblmbbtvxzp','4-5 c: ccldccsq','4-7 k: dzbkksrkkkbkwd','1-7 r: rrrrrrp','9-10 g: qgggtgnlszgggs','6-7 g: ggsgjfq','10-11 n: nnnnnnnngnnn','3-4 c: ftchcgcvlgzckdrg','13-15 p: pppnppppppppzhpplhp','2-7 k: xnlhlxsdzkvhw','5-8 m: mmmbmqmnfmtm','7-8 d: sdddddcjd','3-4 b: fnjr','8-14 c: cccccrjcccccccchcfqc','6-11 m: mmmmmmmmmmmmmmmmmmmm','5-7 l: lllllwhtl','5-7 z: zzbzrzg','6-10 n: ncnznxzcwvcn','2-4 f: xpkffxmlwtgzjppcdf','19-20 c: cccccccccccccxcccclf','4-14 w: wwlmwwfpwwzjdww','11-17 f: fvfffvfffffxffffff','12-13 s: gtshbpzgxnsss','5-6 m: mmsjjgmd','15-17 x: xxxxxxxwxxxxxxhxx','5-9 f: kgfjmbctt','6-7 k: wkknmkk','2-4 c: cccc','5-9 s: grsgskjnsmsg','3-5 q: qqqqqps','9-11 f: fffbfbfffffjfffcffkg','7-9 q: qqqqknqqcmqqqq','17-18 x: xxxxxxxxxxxxxxxxxq','2-10 j: cmhglhqjdg','10-11 h: pnhzhkgxbhkdm','8-12 j: qjjjjwjjjlzjbjjdcjj','15-16 q: qqqqqqqqqqkckvrq','6-15 f: fkfffffffsfcknf','4-17 c: vgpsglczjdfcnqtbnl','10-11 k: mmxktwkkwbvfkkdkkknj','11-12 s: ssssssspsssk','3-5 l: lcqdh','2-3 m: mqqq','6-7 k: fkkkjkv','13-15 g: gqlgdsgggggxggg','7-9 r: jvnkhhrrrvrsfxkrtd','14-15 f: ffrffffffffqpkllfxff','3-4 d: gjvf','9-12 x: hxxxrxqwxxjxxq','5-7 k: wdkkkdfttqkdkng','6-7 x: xxxvxhx','6-13 c: ccsclccccfmcdb','5-17 c: cdccsvcccccccccck','14-15 s: sssssssssksssnx','6-7 j: jjjwhqt','14-15 s: kssssssssssspcss','3-6 w: tnmlbhw','1-4 g: lqgrtcgn','1-11 b: drrwhbwzqdj','7-8 r: vrnvdtrr','4-8 w: vwwwwwwwww','6-7 v: vvvvvvn','7-14 t: sxtxhdxcwqdgrtqs','2-7 w: ptgsdwghvjwmwbgrqqs','1-2 l: llllgll','3-4 n: npnnbg','3-5 h: mxhhhwhf','10-15 j: bjjjtnjppjjjzcjjsw','8-11 r: srkkhrrcwrbrptr','2-4 t: qttwv','8-9 t: tfhtldttt','5-15 r: lwdmlgrrrrtrrrpxgrp','8-9 d: ddcddddgwd','3-4 b: cbbb','11-12 m: vmmnxtdxmmnm','2-5 r: rwrvc','1-10 s: sssxsfsssssws','1-4 v: kvlxvvv','5-17 h: dhqhhhlxhhhhqhhbhhnc','7-9 d: bdddpkdnfrnmb','3-6 x: qvstbxvkqfnxwnk','16-18 m: mlmpnmmstmmlmcmbmh','8-9 h: hhhhhhvhhhhhhhx','7-10 t: tqcttwwttg','1-9 m: gmvlmmmqmtpfm','3-4 p: ppppp','7-17 d: xddgqhdddcptxdhxc','1-11 f: ffffffffffff','13-14 r: dmsrnztgrrlvgt','10-11 r: rrrrrrrrrrvr','4-5 l: llllll','4-9 k: kkkkbkkkd','3-5 b: vsbbbtrnqzbbd','2-12 j: sjgjnjmhjgcjjcnjjj','5-15 h: lqhvhhtxkhchmhh','7-14 l: sllsfllllllllllllll','12-14 v: pvvvvvvvvvvvvv','4-5 j: jjgjjjg','11-13 q: qqqqmqqqqqdqxq','7-9 p: ppppppphpnp','5-6 s: ssrssz','8-14 j: jjjjjjjjjjjjjjj','6-8 j: jtxjdjmjxjjjrjq','14-16 d: ddddddddkdddddjd','4-6 h: hhhhwhxh','5-12 h: hhphwjhjhhhhhnhhbh','5-9 m: mmmjxhpkmmhmttjdmk','5-9 c: cxcvgtccttwn','6-11 r: bcrrwznbgtrrrr','3-4 t: fpttlttxjwcqmtbw','2-4 b: dmxkbrgpjqtlnq','2-7 r: rdrfprqprkgwpxrrw','10-13 c: ccckpcsccwccccc','5-7 l: vlllllkl','4-11 x: xxxjxxxxvxtx','1-5 h: hhhhh','7-12 s: sjssssxnssmsj','4-5 w: wthmw','6-7 f: fkppffq','7-8 c: cgktccccckcccc','1-2 q: lhnsqrk','2-6 m: dvmmmm','3-6 x: dbxxlxkf','7-14 d: ddsdjslpkfddxjjjkdt','14-16 c: ccqcvctjcccrccgc','1-3 d: dddrkddddkmxr','7-10 w: gpwgskmxsjv','4-5 v: bxhgm','6-7 w: whwhfqw','1-4 x: sxxxrx','2-4 g: ggdggg','15-16 h: hhhbhhhhhhhhhhhh','8-9 s: ssssxsksshss','4-6 w: wwwlwqw','6-8 d: sdpqddddmddw','14-15 j: jjjjjjjnjjjmnjj','2-9 p: pvzstcclp','18-19 g: fgggggggglpgggggztg','15-17 z: zzzznzzzzfzzvztzhzzz','10-11 j: pjjkjkjjjgj','7-12 w: dwbwwbzwwwbvwmwc','3-11 g: vgggwqnwspgg','8-13 w: wwwwwwczwnwtww','1-11 m: mjdtsvwmcqmvd','2-3 c: vcccc','6-17 k: wskkkkkkkkgjkzkkkgmk','8-12 g: mghgrngjggvjgg','4-7 p: pppsppp','6-9 v: vvvvvrvvv','5-14 j: jjmqlzjbjjjlmjjjjj','1-13 f: fkbnffffffffpfff','3-9 r: vrfrxtvwh','2-4 k: fkskpjkkbh','15-19 d: dddddddddddddddddhdd','1-16 s: swtmgswssfwsxpsssss','12-13 s: ssssssssssslssss','1-2 q: wvzvbb','9-14 d: pddddqgcdddjddx','4-6 x: vbqpxxbkxmx','1-5 q: qzqqqqqwfmtqfq','7-17 l: mdlcllllhrlllhpllcl','9-10 q: qqqqqstcgcxqqq','6-11 x: txtxhxxmxhxxx','7-8 c: ccccccppc','12-13 v: vmvmvvvvvvvvxvl','10-12 r: rrrrrzrrglrrrrkr','2-4 s: ssbsv','15-17 g: ggggggggggggggggf','2-7 g: sgvgtgghmtxd','16-17 s: ssssssssssssssvzsss','4-6 n: nnnnqnn','10-15 t: mvtttvtftqzmtjt','10-11 q: qqqqbqqwqrzqqp','6-14 h: hjhhhchhhhjhdd','11-15 b: zbwhdjksbqbdbmb','5-12 r: mrnggrwzrhrrrr','9-16 m: jmmmmmmmmqwmmcxmfmm','7-8 h: qsmhhhtsbhhhjhwl','2-3 h: hkghhm','1-4 k: nkkkk','3-4 z: zzzz','11-13 j: jrjjgbgjxrqjrmjjgckj','3-7 w: wwwqqlwdb','6-9 b: fsbbbqbbqmbb','13-16 n: nnnnnnnnnnnnnnnn','5-7 b: cbbqmbbrhbbz','2-3 l: xjzkbwgfwwcwll','13-14 z: zzzzzzzzzzzzzzzz','6-7 c: ccccccc','4-10 l: lhlslmlwmwbllv','4-5 h: rqhhhhh','3-4 t: dmtttmxhtqz','6-17 n: nnxcnncnnvgcnnrnrmn','3-4 x: xxmxxx','8-10 j: jjjjjjtjtvjj','5-11 d: ldldbnndddddsgdpgj','1-8 n: nsjvhncn','3-8 f: fffffssffxfffhl','1-3 q: kwnq','3-5 k: krkcklkhkspqmqm','3-4 k: dklm','11-14 j: jjjjjjjjjjjjjjj','16-17 v: vvvvvvfvvvvvvvvmx','5-6 m: mmmmmm','10-11 l: wdlgllqlslf','5-6 t: prbwttmtpvwr','6-20 c: cwcctqccthccrpccccct','5-12 s: sssssbssssszs','10-11 k: mkkjklhkktkkkdvkqqkm','11-12 n: nnnnrnnsngnn','2-5 p: ppppl','7-11 f: mvmdfmdwfffffwfrjfqk','13-16 r: rzsrdsrrrrrrprpjrb','13-14 c: ccccccdccccctc','13-18 n: nnnnnnnnnnnncnnnnnn','4-10 r: rvrrdhflcrtwzz','2-9 p: prpczpbpt','3-8 q: qqqqcksqqtx','4-5 d: xxdpmdbvddn','3-4 j: jjlj','2-3 n: nrnnnsnn','3-4 w: pnwkwdn','1-5 w: wlwgw','10-14 x: xxxxxxxxxxxxxxx','5-15 k: kkkkfskkhkkkqpf','3-4 b: bbbbf','3-4 r: jrrr','3-6 h: htkhhhhh','15-16 g: gggggggggggggvgt','17-18 s: ssssssssssgssssssz','14-15 m: pkngmmpjmxmmmms','4-10 f: rsmxvsghdlfff','16-17 z: zvzhzzczdvzkzzghg','16-18 v: vvvvvvvvvvvvvjvvvv','6-9 t: tttttmttttt','5-6 j: hjwxgbjf','3-6 k: kkkkkh','9-13 d: ddpgdfddddddd','14-15 x: xxxxxxxxxxxxxxx','1-4 v: vqvqkrjx','4-5 h: hjhhnh','2-3 v: jvvsrgsvfqlv','9-10 m: mmmmmmmmmm','2-5 f: ffnfpff','4-6 b: bbbbbg','8-9 p: ppjwqpjbnpppwp','5-6 l: lldlllll','9-10 g: gvgqggtgggggg','6-9 x: jxxxxxwxqqvxx','1-4 w: lwwgbt','16-17 d: jcdmgkmfvvlqphbddvhc','1-12 s: sssslssssssnsss','4-5 p: cjnppjllxbrp','13-14 n: jmzjhttnkkgnnn','11-12 t: vrgtrgjrdmtcfzx','16-17 l: lllllnmlvldlllrwmlc','13-16 m: mbdmmmmmmhmsmmmmtb','3-6 z: zszzzzz','1-6 h: hhhqhrbh','3-5 n: rlnnnn','17-19 x: xxxcxxxvxxxxxxxxxxkx','3-10 r: rccrrrhrrx','4-7 h: hhhdhhh','3-6 g: hgfzpmpgg','1-2 x: xxqhhx','5-6 m: jmmmmzf','1-2 j: bjjj','2-3 q: gqst','3-4 g: ggggmbghk','3-4 f: fnfdf','5-6 q: qpqtdg','2-3 t: ptctz','5-6 d: pddvdddsd','1-4 f: ffftff','3-5 b: bbdbg','13-17 f: fgfckcdfffftffxfffff','3-4 w: wwkxsw','2-12 l: hvgqmbqlrnzls','1-2 f: szff','6-7 q: sqqqqnqq','1-4 p: ppvd','3-7 c: cwscbkgc','4-12 s: sssfsssspsfsgss','4-10 t: jstttgststtghzp','5-6 j: jjjjtj','5-9 k: ffkdktkkhbbwkkj','9-15 k: kkkkkzkkkcbkkkkkkkkk','3-17 w: wwgwnnkswwpqwkwdhw','15-20 l: wlllllslllllrllllllk','4-5 r: rrrfm','2-6 l: flllnll','12-13 s: ssssssssssscwn','9-10 r: zpqrrrrrfn','10-13 h: xhhfhzchhjhhtdrhhzh','6-7 b: bbbbnrbb','2-12 f: tffjcjtlnvgf','2-4 g: gtgkg','11-14 n: nnnnnnbrnnnpnnn','15-17 j: jjjjjjjjjjjdjjvjv','10-13 r: brgrrrfrmfrrxrgrrrs','3-13 v: vwvjsftzkvcxvdbxfs','17-19 f: fffffffffmffffffffff','1-4 g: vggxg','5-16 m: csckdfxglfpzmrhcmbnn','4-15 z: gzqjzczzzzjzzhjbz','13-14 w: wwwlwwwwwwwwht','11-13 j: cjjdjjjjsjjjkjjjh','4-15 w: wwwqwwzwwmwwtww','1-2 p: ppjcp','6-10 f: ffjffrfffsgm','17-19 q: qqqqqqqqqqqqqqqqqqqq','3-4 g: gmgz','10-14 s: fpsssdmssdsgsgvss','9-10 m: mmmmmmmmmmmm','1-5 c: fcgns','5-9 t: ttcgtttrtttttq','4-5 v: vvrvvv','2-4 w: xwpw','5-12 d: trdhrqlqwrlsrdfh','3-8 n: bbnnnzrnnjdnb','8-10 w: wwwrwdwjgz','5-6 d: ddddjr','1-3 p: ppqppp','10-19 f: dfbjgffmpvnkhfwjfff','3-6 k: kkkkkkkp','5-7 t: vqtxtxtvk','14-15 c: cccclccccccctcctwc','2-13 x: tmxxzxklxgzxxp','16-17 b: bbbrbbbbbbbbbbbbbb','6-11 h: gmzhhhhmrhqhhm','7-9 k: kkkkkkqkck','4-7 v: pgvdvvx','12-19 f: fffffffffffxffffffff','2-5 p: mphtpp','6-13 t: ctttvwtntqttttq','3-11 t: xntrzxtlnwt','17-18 l: llllllllllllllllll','2-5 c: zczpcfdzblnkcvj','1-5 z: fzzzmz','6-11 f: tdcffpffwqlfffg','16-17 h: hhhhchhhhshhhhhdhh','13-14 m: msmmmkmmmjmmmmzmmnm','6-13 s: nhbscsgcssxsrsssx','5-17 q: qqvqqqhqrkqqqqgqqq','2-4 t: vqtbt','2-5 t: wfdrsrt','6-7 f: ffffzdx','3-13 r: pmrtkvdcrxrnrzw','14-18 r: wrrqrrcrrlrjmrrkrt','15-17 j: jjjjjjjcjjjjjjxjt','8-9 h: zmhhlmhhhdhhhhg','6-15 l: lllllnlfllllllll','3-5 n: nnfnb','16-17 s: sssssssslssssssss','8-9 k: kdkjkkkskkk','2-5 z: gzzmzhdplnwwvlsjnzv','4-15 r: rvmrbsrtrfdqrrb','6-7 l: llllllc','4-7 g: dnggxhgggg','8-9 f: fftffkdff','6-9 r: rrrvrprbrz','2-6 q: qwqqqqq','7-9 h: mzhpwnkhh','3-4 m: mmlh','1-15 v: vjpkvdzvzdlklpn','1-3 r: rrggvr','8-13 d: dwrpdsdjhlddqddhdwdp','3-4 r: fvrrsprrmrrrjgr','4-5 s: zsrssvss','6-7 d: dfdwtcvgvcdfdqdwd','6-12 n: rhnjnndnfnwql','3-5 l: hvlxlcnclqllrw','10-14 l: llllllllljlllplll','6-10 b: bbbbbbbbbbbbbbbbb','8-11 q: qqqqqqqtqqqq','7-8 r: rrrrrrxf','1-4 k: jkkkzsmbtng','13-17 r: rrrrrrlrprrdrrrrl','1-7 t: dfgnvtl','2-6 v: qvvdsm','8-9 l: lltlrlljb','3-4 m: mdmm','17-18 t: ttttttttttttjtxttwtt','9-11 b: bbbbbbbbbbpb','2-3 b: bwnbr','4-10 t: tfdtltstdft','8-10 z: zzfzzzztzzz','6-8 q: qqqqqqqmqnqqq','7-11 r: rzrrrrzrrrr','11-13 k: kkkklklbkmklk','17-18 l: slllllblllllllllclll','10-14 s: ssssssssswssssssss','3-4 s: hwssssgjsp','7-10 g: fbggxgtbngg','6-7 z: tzzzhzjz','3-7 g: ggggggcrg','16-20 g: grgghjcnlmkszxrgtgvv','1-16 n: prqnwnngbgtjsvsj','13-14 z: zszlgqdgtqbzzlpkzz','4-8 f: ffftffnnfp','15-18 s: jrdgssszdxkzhlsfzs','7-8 l: llllllbplllllll','7-10 l: llllbllllll','5-9 b: bbbbwbbblb','4-5 g: gdwhdg','2-3 v: jnfvvv','11-13 h: hhhhhxhhhmzhbj','11-13 r: wbrrrrxgwlvwd','10-12 m: gxmpmmmgmmmmm','11-12 h: hhhhzhhhhjhnhhh','2-13 g: kzkztgnlbqhlgx','4-7 z: zktzzzzx','1-7 q: pqrxqqhfpglwqts','6-7 f: pffvfbtf','6-7 l: tlljjlllnll','4-17 f: flffpffffdfqffscff','2-4 q: bqxqrqrrq','6-8 l: lllnllfll','9-12 r: xrgrrjrrrkgrrqrnr','14-19 r: rrrrrrrrrrrrrrrrrrrr','18-19 w: lbqrkdwwwqgrklcwxwwh','9-10 n: nnnnnnnnnn','7-13 b: bbbbbbbbbbbbb','5-7 k: hkbfskqkjktwkk','9-10 c: tlvmtfcpccwwz','3-7 r: rzzrspmp','7-11 g: gghzgglgggt','4-5 p: pbpwp','3-6 q: qqrqqv','3-13 m: mmmwxmmlmnvmmmmmm','2-6 p: ppplqpfpp','11-15 t: ttttttctttltctgt','2-7 m: cmnhjqm','1-6 m: mzjmtmmmmmdw','1-10 j: jzgjcjjjjspjjjjjgjmj','4-7 r: vmxtrrnrxnnq','8-16 h: hhhhhqhfhhhhhhhhhh','4-10 z: kcmkzmzpzts','14-15 j: jjjjjjjjjzjjjjj','6-11 x: xxkmxxcxxvx','15-16 v: vvvvvvvvvvvvvvgt','6-7 w: wwwwwgqz','5-7 d: dkdpmcddjdd','6-12 s: sssssssssssvs','8-10 q: fcpwtgqqqz','4-5 w: wwwwgwww','8-11 q: qqqqqqqnqqbqqr','3-4 d: dddwddd','9-12 x: qxcgxxxxvdxdkzxxxxx','3-8 k: kqcsjxszvscfvm','4-7 d: mgdddddhkdqb','3-7 x: xjxxljlsfrfnhsxxlv','4-9 g: xgsxgtgggxmgg','1-4 p: tppknptkp','3-7 z: gzzbzzz','1-5 p: ppgpz','15-16 f: fzfffffffffffffwff','5-11 t: tzttvqltfxtg','6-7 v: vhqvzpvv','2-6 f: fmffftfff','9-13 d: dxrdgddddrddddqpgdd','7-8 r: rrrrrnlnrr','5-6 t: btttwm','13-14 g: gggggggggghgblgg','12-19 r: qkgrvfnsrwzrqsrhrrs','15-17 j: jjjjjjjjjjnjjjhjd','4-9 t: btmrbcgttjht','16-17 n: nnnnnnnnvnnnnnnznn','3-7 l: lltlllglll','12-14 v: vvvvvvvvvvvvvv','1-3 q: qqqq','12-14 f: flbfphvwfdffjf','10-11 z: lszzzzzzzzzzz','3-9 k: lvzkkhkkp','4-6 j: fmrjccsjrzjqkfvn','5-11 x: xxxxvmxxxxcxx','1-9 c: wcccccccjxcvccccc','1-4 l: sblllll','1-2 x: xnvlnxs','4-5 f: nffccfff','8-9 p: vpppppprz','1-6 d: vfcqmddw','6-7 b: bbbbbbb','7-13 n: nnnnnnnnnnnnwg','3-6 q: zqqqqqqqqqpqqqq','1-9 g: gbggggdgglgmg','9-13 b: wbbbxnbbqbbbbkbb','4-5 g: gggwr','3-9 r: vnqvvhprzmbhrcb','10-11 m: mmmmmmmmmpm','4-7 c: cgrbccdbcz','5-8 r: rbvrrrrr','7-11 d: ddddjdmddfhvdn','1-2 k: zjkk','2-11 w: wtwwwwwwwwsw','7-8 b: bkbbbbfbbxd','2-4 w: wwnjswwmgbwrwwm','9-18 j: jjjjjjjjkjjjjjjjjs','6-7 t: tttttvwtttt','10-11 v: wvvvbvvvvvvvm','17-20 d: ddddddddddddhddddddn','2-12 q: qdqqqqqqqqqxqqqqqq','5-7 w: rjdswwwwwwqmmpww','1-9 b: bbbbbbbbxcbbbb','4-5 q: qqqwxp','10-15 n: nnmnnnnnncnnnnvn','10-17 f: fnfffffffffffffcff','2-3 p: krpx','8-10 c: cvsccclwccrcjjclc','5-9 t: fpnhtmtqtvwcss','10-13 r: rrxrrrrrrfrrrr','6-9 l: lllllwllt','11-15 n: dnnnnnnhsxgnnhsn','14-16 b: bbbbbbcbbbnbwkbsbm','3-8 g: qhlxgggqvg','11-14 x: ptqcgxnnhpxbgxlm','17-19 g: gggggggcgggbggggngg','10-19 q: qtjrqqwjvqqqknqbqqq','10-13 j: jjjjjjnjjljjsj','1-3 g: mggg','3-7 w: pwtwjdq','1-2 j: jjjp','9-13 z: pszzzglzhzzzzhz','1-2 j: fhhjxz','9-12 l: llllllllsltll','7-9 c: cxdvzcclccz','13-15 g: ggggggggfggggkgg','15-16 z: zjjbgzlxqzzsxzdxz','2-3 z: kxcszzzsrsccg','7-9 t: sttwxgtwlbzbsffttjb','1-6 r: rnmrrrtrrl','4-7 m: pmmtmmq','5-7 f: lggcpdpf','16-19 j: jxjjxjfssrvlmjjfjjmq','2-8 w: wrwswcwvw','4-15 k: kkkpkkkkkkkkkkq','12-15 s: xbssnshpsssgsbk','7-15 z: vzrzzczbhzzzzzzzhz','10-14 w: wwwwwwwwwtwwwwwwp','11-12 k: kkkkkkkkkkkkkckkkkq','15-16 s: sfssvsssssssmspl','4-5 d: dddqd','5-7 h: phsblhnfhchb','8-11 x: rxxxbhxxxjxxxtgsc','11-13 x: xxxxxxqxxxnxvx','5-10 p: jbpzfmphpwpz','9-13 v: vvvvshvvgvsfqvvvv','4-7 r: rrzwrzdr','11-13 f: fffffxffffzfwf','13-14 s: ssssssssssssss','2-11 c: czccdmkhhcvcc','7-11 w: wwsxwwwwwwwwj','7-9 t: ttknmtxvttttnt','1-6 r: rrpjrrrr','5-9 v: vkvvjqvvbvtlv','1-5 q: mwvhpqqqcj','1-5 f: fffff','4-5 r: trrcv','10-12 s: sssssssssssvss','4-5 d: drddzd','4-5 n: nnknl','10-12 x: xxxxfxxrzbxzvtxlxt','4-10 v: sbgsvssbnhmh','3-11 n: dnngqwnnjtnjjg','1-2 w: xdsvzdmzswwwwwwmgjw','6-8 h: whhhhmhbhh','2-18 w: wswwwwwwwwwwwwwwwwww','11-12 v: vvvvvvvvvvvv','7-10 v: vrhvvcvvvvvv','4-9 r: rrrrmzntrsgrrkhhr','4-5 v: vvvtvc','3-10 t: ttnttwzgptr','2-3 c: gccrngp','2-3 b: bbbqx','1-7 s: zsdlsjs','5-7 j: jjjjjjj','2-5 g: ggnhg','2-6 w: fwwkwhjqbwqw','1-6 w: wdgnjwqwqv','9-11 b: bbtksbbdxbpjbbbbb','12-15 k: kkkkkkkkkkkkkkk','1-6 b: bbbrbbb','6-7 g: gggggvs','8-14 s: sssnwssrsssslcs','1-6 q: ngjprqqmdwgkjqvq','11-12 z: vzzkzzgzzzzzzz','3-4 n: nnnnnnnn','5-6 b: fbwbljf','11-18 h: hhhhhhhhhhshhhhhhlh','2-15 r: rrzgrzwrblrfwfrsd','6-11 n: zncnknknbgn','13-14 f: vwffftfffpffzfff','5-6 c: fcccbc','5-6 b: bxjbcpsbrgbgn','2-7 f: tffhrsf','7-12 g: ggggggtgggggg','4-5 t: ktphttltctt','4-6 w: fwsgwh','7-8 m: mfmmmmmmm','4-5 z: gzjzzfjzzz','8-9 l: lvtllllllll','3-5 m: rsmmd','10-11 r: rrrrrrrrrlz','11-13 j: hhqtkwznghbfsbwpvrj','4-5 z: zjzndzrmqzlptg','13-16 m: mmhmmmmmmmmmpmrmmm','5-7 p: pppphpp','2-3 s: zscgsj','14-15 h: hhhhhhhhhhhhhlhh','2-3 f: rffrtlxwfff','1-3 z: ptqlzzxskrjsnp','3-4 t: ftttst','8-9 t: thtttttpttm','11-13 g: qzhmgptdfwggqqc','6-9 f: nfffhfkffhf','2-3 w: qsxgww','11-12 d: ddddddddddddd','2-4 v: qsbvvv','8-13 z: zxczszkwxzgkz','2-4 t: cbtt','2-5 q: clndcnv','8-12 f: kfnhqbfnnpntfsvxcx','2-3 d: gddtd','1-9 z: tztzzzdnm','3-7 h: hhhhhhhhh','5-6 t: tttttvtttt','5-9 g: npzggdhvggpqgxwgvgsg','3-12 p: kwpptpplxrcgfxphpqbg','15-18 f: fffjffffffffffwffff','7-17 n: nnnnnnnnnnnnnnnnnnnn','5-10 d: dndddkddddx','1-7 v: cvhvsvhvv','5-7 f: fscrtxlz','1-14 b: bbbbbbbbbbbbbbb','1-11 n: nnlnxntnlxnnnktnnxb','13-18 p: pppzppppfqhppppzrp','7-8 h: hhhhzhhmqhh','16-17 r: rrrrwrrrrrrrrxrrrr','4-8 f: wfffgnff','15-16 j: jswvgtfhtffjgjjsxsdq','16-17 n: nnnsnnnnnnnnnnnnnnn','7-8 w: dxhcjvwwzwdddhhwwlj','1-13 h: ppshfshghphcq','5-15 b: cbxnbhbbjbhbbmbkvz','2-11 c: tdgcqlcccccthwmk','1-4 p: mpppp','1-4 x: xpzxxkzlrsgrbxpklcz','2-11 f: qffffgfffcgn','14-19 h: hhhhhhhhhhhhhsbkhhqh','9-12 h: hclhhhpsvhhfhh','2-6 s: lqcppxlsfv','6-9 v: vvvvvnvvv','9-10 q: xqqqqqqqqqq','3-8 m: qmmcjmvmckrmm','4-9 h: hhhdhfhhs','1-14 r: vpsprlstjkrmmrpzqsz','6-7 g: ggggrlqg','7-10 t: dtkttptttttt','3-4 n: vkkf','9-11 g: gflgwgggrgmmggg','3-19 l: blblmlrlllhbllwllll','12-13 x: gvxsxkrvdqbxx','11-12 b: bbbbdpdbbwls','2-13 n: nnnnnnnnsnnnrnnnnn','6-13 n: mfnnnnnkxnnnn','5-6 f: kxxfqnf','4-5 x: xxxxl','6-13 f: nsnxwrftkcgzffv','6-7 w: wwpwwxl','5-7 m: brvmmnw','1-4 r: rkbhnmdt','9-10 b: knbzbbfnfbbblrqbrbnj','2-5 v: vvvxvvxbw','3-5 q: qcsjq','7-15 c: gcdpccrcddccwccf','13-14 h: hhhhhhhhhhhhhh','10-11 l: rllllllllllpcs','10-11 w: wwwwwwwwwfw','2-7 f: fxtfffn','3-5 x: xxxkx','3-6 c: ccrrwbsj','1-4 g: gggggpgqgg','1-2 t: vztj','4-11 c: zccccccccqcc','5-11 p: hbpzppdlppp','3-5 h: frhhhzhprz','4-7 d: mzdnddd','15-16 t: gttttttttqttntttc','1-8 c: ccqcjbhpccczvfck','2-3 b: lztcb','4-5 d: ddddd','2-8 j: pwfjfdjjjjzkjcjrlwr','10-11 m: qmmmmmjnmpmmmmxn','10-17 f: ppbfdsjvpfhzccbwfr','4-8 c: cfnhqtcmcws','4-6 b: bbqxpfzqfvkpbhcbdfn','4-5 k: kkkkx','4-8 f: vpwfkfff','1-3 t: ttxtvtthttg','3-4 j: fjjj','18-19 v: vvvvvvvvvvvvvgvvvxp','11-14 q: qqqqqqqqqqqqqq','2-3 p: ppplxprwvjmf','7-14 q: qpqxzqqqqqqgqmgqqgq','3-7 x: dqlxtkx','6-7 f: sfczgfffzfhffjkkf','1-4 x: xxxxfwxxxpmxd','4-5 b: jbbbbb','10-11 p: vrpvpppppppdppp','18-19 l: llllllllllllllllllll','4-10 v: jjzvnsfbbvqcdfq','16-18 d: ddddddddddddddddddd','13-14 t: ftttdtkrdtktttlttkd','3-17 d: ddkddfldddddddddr','10-20 v: hfzhttvvnkxqvvhlvvvq','5-6 t: tbwtszgwpntthtvttrsj','5-6 s: ssshsstds','2-4 h: hhhb','6-7 b: bbsbfbb','2-12 n: znvqnslfhnwnqr','16-17 g: gggkggggggggggggl','4-12 j: vjqdjjjtsjdjv','14-16 j: jjjdjljjjjjjjjjjjp','4-14 d: dddddtqdddddddd','3-4 m: mpmm','7-8 c: ccccccdc','3-8 l: clllhnlllrzzgll','9-10 c: ccccccccbx','3-4 k: kkkj','5-12 r: rrrtjxhxzbrrf','4-6 w: wwwkwhww','7-9 m: fqrmrmmmmgmmmtmb','3-11 w: kwwnwwwghhgw','9-11 k: kkkkkkpkkkktvkkk','5-9 w: hwqjflkkwdqmwmcw','12-16 h: hmhmhhhkxhghhhhhhhhh','1-4 z: zjzlhjpft','1-6 d: dddqdd','1-9 s: ssssssssss','2-4 d: wddf','7-9 k: nhzkkmkxkhkphkdkkd','12-15 m: khmmmmmmhgmmmmmmm','3-9 n: jnknnnnnn','6-8 g: ntgggfggmlrgcggf','12-15 g: gggghggggmgmggdgg','7-13 x: rxxxxxrxxxxxnqxwsxx','3-5 n: bnnbnnvdwnls','3-5 v: mvbnzk','2-8 n: npntnnnjnxknb','6-11 t: ttftttlqtttt','5-7 g: ggggmgp','5-7 x: xxbjcxw','1-8 d: ddddldddddddwdddd','2-4 s: csswjbfnjnm','3-4 m: mmmr','16-17 z: zzsspzjzzzzzznzzz','3-4 r: rvzpfr','3-5 p: wpgxpb','4-5 r: qlrrr','7-9 q: vqzzqqrqtf','6-14 c: qcfwcfcchcvzzgcl','2-11 r: brhlrbvrlrrr','7-13 l: lllllllllrlllll','2-7 w: twfwwdwvzwbw','4-5 z: zzzbzz','3-4 q: qzzt','3-11 h: hhhhhhhhhhhh','5-12 c: cdclccgcccxfczrlcc','5-11 p: lmgprpppvphpj','2-5 r: rgkqrdsrxlmddmkktpnr','1-4 m: zmgfmqmmmxfm','15-16 f: ffbffffffffffwvnf','19-20 l: ltllllllllllllllllhl','2-6 j: spthjkftw','3-10 r: rrrrrrfrrmrrrr','1-8 n: nndfhqxn','6-7 j: zjjjjjj','12-14 k: qvgcvhmzkkrcck','6-8 k: kkhbkhkkkk','10-12 s: ssrssxssslsj','9-18 h: dsmxxwndhgjpztkqhh','5-6 m: mmmmlf','4-5 x: xxxlh','9-15 b: bbbcsgbdcbbrbrfbbbbb','6-15 j: nfbjrpjjqjjxsbjt','1-6 c: cncpkcfwcd','2-4 m: xmmhmjbcmdmm','4-11 s: lhdssvkldhsqssdjgs','14-19 t: ttttttdtttttlttttttt','2-4 x: gxxxbxk','2-6 k: kkpqkkkz','10-11 w: wwwqwwwwcgqwww','8-9 s: sssssssss','2-4 v: vvvwsrb','12-16 s: rtcsfwssdswthfpf','3-11 g: fgnggtlgbgd','2-5 c: ggccc','10-15 h: hhhhhhlhpghhshh','1-5 n: nlhqnj','7-10 f: fnfffffhffff','5-6 t: tfttkvt','1-4 c: mgcsrv','10-17 g: bggpmggggpgggggwqh','3-7 p: pprvppp','5-8 n: xnnqndnznf','6-11 b: bbbbrbfbrcdb','3-10 k: pcfknlqkgkpzkknk','10-11 m: mmmmmmmmmmc','3-4 v: fwvvh','2-7 l: zlcvxwrhlnnlkhr','1-7 q: vqqqjqsqqqqvrqqq','6-8 d: ddddddddd','1-3 z: zkzlrz','5-11 w: wbfzwdwpwdfztsrxzcw','7-9 s: qsssclssl','3-5 l: cvmlgk','9-12 s: qsrssnsvsxshqsdtd','8-12 m: wmxsnmmmfwzmf','1-12 x: xxxxxdxxjxxdxxxxxx','4-10 r: rwrlbkkmqrxr','5-13 g: ggggggggghgggx','11-15 w: wwwwtwnwwwvwwft','9-10 q: qqqqqqqqwfq','6-13 q: qmhfqqxkmcjwqmc','2-8 r: rrrrcmrrrrq','12-14 m: mmmwmmmmmgmhmt','2-6 t: ttvtctt','3-6 r: qcrrpsxjttqrrr','7-8 g: gggggggk','13-15 w: wwwwwwwwwwwwwww','8-12 p: qqphwpjmwppfpvwrp','7-10 c: cccccwtccc','8-11 w: kwtwrwwwwcqwww','9-19 z: zzzzzzzzzzzzzzzzzzz','4-5 q: qqqsq','6-9 c: cxfcccgcccpc','7-9 d: nddlddxdgddzd','3-12 q: qrghqxqjqqdwqqq','14-15 w: wwwwwwwwwwwwwqmwwww','14-15 c: frcwcctccrccccc','2-5 v: vqvvdvv','3-4 r: rsrr','16-18 d: dddddddddddddddtdxdd','4-7 b: bfbbbbsbj','14-15 b: bbgbbbbbbfbbmbbbmb','2-7 b: pbrsbbb','15-16 q: qqqsqqqqqqqbnqqqqq','6-14 k: rbvkkvqrxfklck','2-6 c: klccdm','2-3 b: bpbbs','4-13 p: cppjppppppppmvpppp','1-2 k: kqkpq','8-9 r: rrrrrhrkr','7-9 t: tptftttgwtmt','8-12 g: gfhkgqggznqghqg','15-18 n: pnnnnnnnnnnnnnnnnnn','4-5 p: qpqpq','1-9 h: xhqhhhnthzmhhhrh','4-6 x: bzkxxxhxxwdzpkks','4-5 c: ccccc','9-10 v: vvvvvvvvvv','8-12 d: cdcxdzgddtcfdrxt','7-10 b: bbbsbpbbgbbnj','4-7 z: zznzzzq','1-5 z: zjbzzjdppsbvgbg','2-4 w: lwwwtvjwdjwsbps','1-2 z: bzbvbz','6-14 n: dnnnnqnnnnnnnn','15-18 r: rfbrrwqshczrnbxrvhzr','9-11 f: ffffffffpfz','1-4 k: rskn','5-6 n: njnnnb','3-5 z: zzzzz','7-8 n: nntnnnnn','8-14 k: kkkkkkfkkkkkkkkk','11-16 r: rrqrprrrrrrrrrsvrr','2-10 c: dncjfccpcccccccc','8-20 q: gztqpsqqvthwpfjlqxrq','6-16 n: nnnnnpnnnnnnnnbnnnnn','4-7 h: ghhhwzhhhhhh','10-12 z: zzqzzzcfxzzzwzz','1-3 k: tlkwlkskklxvnk','12-13 n: nnnqqnnnnnnfpn','1-3 l: lnlb','6-9 b: bvfkbrzbwdmbvbql','11-13 d: ddddtdwtjdkdqz','9-15 j: jjcljjjjqjvnjjfjjj','13-14 l: tpllllllllqlll','18-20 d: dddddddddddzdddddtdb','9-15 x: nxxxmnxxxxxxsxxxjwg','6-7 j: rjwvjzjjx','5-6 j: jjjjjjj','8-13 t: ttfttttttttttt','6-16 f: ffrffxfffffffffmf','3-4 f: mhxk','4-9 w: lnwnwwvtvwjww','9-12 d: dwdddqddpdddd','11-16 q: qqqqqqqjzqqpqqlq','2-14 k: zkskkmkrwrdkskq','5-8 v: vqxmvxvvj','3-5 z: zpbwzhrzzwqxr','3-5 c: cccgc','6-9 v: vvvtbvvvvtj','5-6 f: fjwfgdfgtf','1-2 s: svvsnsk','11-13 f: qfpwfmrcfcwfr','3-6 j: jjjxdd','3-6 n: kntwpnn','8-13 v: qgmgcrxvdvkbs','11-16 q: cqsqpqlzqqdhqcqrbgk','1-8 t: pptttttt','11-13 g: ggggggggggkgqgg','4-5 g: gggsgg','10-11 p: rpppfppppmpppp','6-7 q: qqqqqqq','3-11 f: pgfftfflctfd','3-8 s: lswnfsjjdsh','11-13 k: kkkkkkkkkkmksk','3-5 p: pppjpppg','3-4 z: zznrz','8-9 d: ntgdwtdmh','2-3 g: gggl','19-20 q: qqqqqxqqqqqqqqqqqqwd','4-11 n: ljgdnkgftmsvntnn','16-19 t: tttttttttttttttttttt'\n",
        "]\n",
        "valid = 0\n",
        "for i in range(0,len(passwordlist)):\n",
        "  passstr = passwordlist[i].split()\n",
        "  check = 0\n",
        "  for i in passstr[2]:\n",
        "    if i == passstr[1][passstr[1].find(\":\")-1]:\n",
        "      check = check + 1\n",
        "  if check >= int(passstr[0][0:passstr[0].find(\"-\")]) and check <= int(passstr[0][passstr[0].find(\"-\")+1:]):\n",
        "      valid = valid + 1\n",
        "\n",
        "print('Day 2 - Q1 answer. There are {} valid entries'.format(valid)) "
      ],
      "execution_count": null,
      "outputs": [
        {
          "output_type": "stream",
          "text": [
            "Day 2 - Q1 answer. There are 591 valid entries\n"
          ],
          "name": "stdout"
        }
      ]
    },
    {
      "cell_type": "markdown",
      "metadata": {
        "id": "qT0wK1AKOr28"
      },
      "source": [
        "Day 2 - Q2 - Check positions of password to see if its a specific letter"
      ]
    },
    {
      "cell_type": "code",
      "metadata": {
        "colab": {
          "base_uri": "https://localhost:8080/"
        },
        "id": "sB7jyZQ3Our1",
        "outputId": "ca97d4c8-2734-48c2-c0a3-44a1891bfeb5"
      },
      "source": [
        "valid = 0\n",
        "for i in range(0,len(passwordlist)):\n",
        "    output = False\n",
        "    passstr = passwordlist[i].split()\n",
        "    password = passstr[2]  \n",
        "    check = 0\n",
        "    if password[int(passstr[0][0:passstr[0].find(\"-\")])-1] == passstr[1][passstr[1].find(\":\")-1] or password[int(passstr[0][passstr[0].find(\"-\")+1:])-1] == passstr[1][passstr[1].find(\":\")-1]:\n",
        "      if password[int(passstr[0][0:passstr[0].find(\"-\")])-1] != password[int(passstr[0][passstr[0].find(\"-\")+1:])-1]:\n",
        "        valid = valid + 1\n",
        "\n",
        "print('Day 2 - Q2 answer. There are {} valid entries'.format(valid)) "
      ],
      "execution_count": null,
      "outputs": [
        {
          "output_type": "stream",
          "text": [
            "Day 2 - Q2 answer. There are 335 valid entries\n"
          ],
          "name": "stdout"
        }
      ]
    },
    {
      "cell_type": "markdown",
      "metadata": {
        "id": "C2OaTz6S_Ad8"
      },
      "source": [
        "---\n",
        "# Day 3 - Trees and Toboggans\n",
        "---\n",
        "Q1 - Check paths down a hill and hit some trees #skifree\n",
        "\n",
        "\n"
      ]
    },
    {
      "cell_type": "code",
      "metadata": {
        "colab": {
          "base_uri": "https://localhost:8080/"
        },
        "id": "a78Tz5xQ_F58",
        "outputId": "9347a32c-c99d-4a0c-da22-4c9f93d61a6f"
      },
      "source": [
        "map = ['......#..##..#...#...#.###.....','#..#............#..........#...','..........#....#..........#....','....#..#.#..........#..#.....#.','#.......#...#......#........###','#####........#.#....##..##..#..','......#.#..#..#..##.#..#.##....','.#..#.#..............##....##..','..##......#....#........#...###','...#....#.#....#.#..#......#..#','..................#.....#.....#','#.#...#...#....#............#.#','.#...#.....#...##........#.....','...#....#........#..#....#..###','#...##.....##.#.#...........#.#','.###........#.#.#.........#....','...#.............###.....#.#..#','.####.#..#....#.....#.........#','.#.#........#.#.....#.....#....','.#.......#................##.##','...#.#..#...###.....#....#..##.','...#....##..#............##...#','#...#............######...#.##.','.........#........#.#...#..##..','.....###..#.#.....##.#.#......#','..#.#...#.#..#.#.##..#.....#.#.','..#......#.#....#...#..........','..#...#.....#.#...##.....#.....','.##...........####........##...','....#............#.#...........','.....####.........#.##....###..','#..#..#.#..............#.#.....','...#.#........#.........#......','......#.#.#...#.....#....#.....','........#.#...#####..#..#......','.....#.#....#....#...........##','.#...#.........#.......##......','.#.##..##......#...............','...#.....#.......#.#.#.........','.........#..#...#...#.#.##....#','.#......##....#..#.........#...','....#.....#........#.........##','......#...........##...........','.....#..............###.#....#.','........#..#...#..#..#..#..#.#.','.#.....#.##.#..#..#.#.....#....','...#....#...#.#.....##.#...#..#','#..#......#..#.###...........#.','.##...##.#........#.#......#.#.','...#.#..#.#.......#..###...##..','#.......#.#....#..........#....','.#.....#..#.#.#..#..#........#.','.#...#......#.#...#.##.....#.##','...######..#.#....#.........##.','#.#.......................#....','..#..##...#...#.#..##.......#..','.##..#.......##......##.#..#...','#.#....##.......#..#...........','..#...#............#..#........','........#.#.........#...#..#..#','.#...###...............##...#..','...........#.....#....#....###.','#..#....##..#................##','...#.#..#..##......#....##....#','...#.##...#....#..#....#.......','#...##..##.#.........#...#....#','.##........###.#..........#....','..#..#..#...#.##..#.#......#...','.......##..#....###.##.....#..#','#....#...#.#.....#..###....##..','.#.......#.........#....#.#..#.','.........#.......#.#.......#...','..........#...##..#...#....#.##','..#........#.......#...........','#....#.....##......#....#.#...#','......#.....#....#.....#..#....','.#....##...#...##..............','..#....#......#...#....#...#...','#....###...##..#.#....##......#','..#.......#.........#..#......#','...#...#.##.......#....##..#...','..#.#...#.##..#..#..#...#.#...#','.#.........###....#....#.....#.','.#.##.#..##..#...........#....#','....##..#..##.#.......#....#..#','....#..#.........##..#......#.#','..........#.#.#....##.#......##','.##...#....###...#..........#..','#..#.....#..#.#.#.#..#......#.#','......#....#......##.#......#.#','...#.....#.......#....#.......#','.#.#................#..........','......#..#..#...............##.','##......#...#.####....#.#.#....','...#..##............#....#.....','..#..#.#...#..................#','.##.#.#..##.###.....#..#.......','..#...#.#...#......#..#........','.###..........##...###..##..#..','#.#...#........#.......##......','..##...#........#....##...##...','.......#.##.....#.#.##..#..##..','........#............#....##...','...#.#.#..#.........#.#.......#','..#..##.##...#.##...#....#...#.','.....##.#...##............##...','.#...#.###....#.......#...#...#','.......#######.#....#.....#.#..','......#.......#............##..','.....#...........#......#.....#','........#....#.##.#............','.#........#.......##.#.#....#..','#.....#..####.#................','.....#.......................##','.#.....#..##.#..##........#.#.#','#...##....#..##................','......##.###..........#.....#..','.#........#...#..............##','..#..........###.........#.....','....#.....##....#..#..#.#.#....','....#.......#.##...#.####.#....','#........#............#.##.....','..#......##.....#..#...#.......','..#......###...#.##......#..#..','#..#..#............#..#.###....','...##.........#..##...#..#.#...','..#.###..#.##.#........#..#....','......#..###.#........#........','.#....#.#..#.....#..#..#.......','#.....##.##...#...###.#.#..#.#.','.#....#..#.........#..#....###.','......##.####...#....#........#','##..#........#..#..##...#......','#.........#.........#...#..#.#.','..........#...................#','###....#....#....#......###...#','#....##........#..###.#..#.....','.#......#.....#.#.........#..#.','...#.......##.....#.........###','..............#........#.....##','....#.#..#.....###.#....##.....','.........#..##.#....#.#........','...#....#.......#.#.#..#.#....#','...........#...#..........#.#..','#.................##........###','####..#.#..#...#.....###.......','..#.#......##.#.......#........','.......##........#..#.....#..#.','...#..#......#..#.#.......###..','#....#...##..#.#.#.#.........#.','....#....#....#.#..#..........#','...###........#.#.###......##..','................#.....#.#...##.','..#..#.###...........#...###.#.','.........................#..#.#','#...#..#..##.###.....##.##.#...','...#..................#.#....#.','......#..##.#.......#.......#..','.##....#.#................#....','.#...#..#.#.#....##....#.......','.##......#.....#..........#....','..#...........#..##.........#..','....#.#...........#..........##','....#.#.#...........#.#........','......#.....#..#....##....##...','............##...##......#.#.##','#.#.....#..#....#..#...#.#...#.','.#...###..#..#.......#.......#.','.....#..#.##.....#....#...#....','##.....#..##.......##..#.#.#..#','....#.#......##....#.....#..###','.#...#.#......#.##...#..##.....','.#...#...#......##..#..#...#.#.','.#.........#....##...###...##..','###.....#......####.....#.#....','.....#..##.##................#.','.#.................#...#..##.#.','....#....#..#.......#.....#....','.##....#..#..#.....###.#..#..#.','#.#.......#.....##...#.....#...','#.#........#.#.###...#....#....','.#.....#.....##.#...#..#.......','..###.#............#...##.###..','.....#.....#..#..##............','.#.#..#.#..##..#....#...##.....','.#...........#..#.......#...#.#','#.#.#.#.....##....#............','...#.................#.#......#','.....##.............#...#.#....','.##......#.#....#..........#.#.','.#.##.......##...#...#.....#.#.','#...#.#........#......##....#.#','#....##....#....#...#..#..#.#.#','......#..........#...#.....#..#','#..#....#....#..##.#..#.#...#..','......#..#.#....#.....#.#..#..#','...#.#...###........#.#......##','..#............................','...#.#..##...##...#...#......##','...#.####......#.........#....#','.#...#.#...##....#......#.#....','.#.....##..##.#................','.#...............#.............','......#.....#...#..##..##......','...#..##.......#.......#..#.#.#','......##.....#..#.....#...#.#.#','........##........#.#........##','.#....#.....###..#.......#...#.','#...#....#.........#.......#...','...##..#........#####.#........','###..#....#.#..#...#.####......','..#..........#.#.............#.','#......#.#....#.#.#....#.##....','.#.#.#.............#....#...#..','......#.....#.#...#..###.#..#..','.....#..#............#...#...##','..#......###..#........#.#.....','#..##......#.#.#.#...........#.','#..#...##.##.....#....#..#.....','...##.#..........#.#....#...#..','.#.#.#.#..#.#...#......#.......','....#......###.#...............','.........#...#....#...#.#....#.','##.#.........#...##............','........#..........#.#...#.....','..#........#....#.......#......','#..#...............#..#...##.#.','#........#.....##.#..#....#...#','..##....#....#.#...........##..','....#.#.........#..#.....#..#..','.......##....#.#.#....###.#....','......#....#.#...#..#.........#','.....##..#....#.#......#.#.#...','#.##..##.#.......#..#...##.#.##','........#.#..#...##.#.#..#.....','#..#......#......#...#.#..#....','.....#......#.#....##....##....','....#.##...##..#..........##.#.','.#....#.......#.........#......','.#.......#.#...#...............','....#.##.......#.##..#.##..#...','#..#.......#.....#..#..........','..#.##.......#....#.#..##..#...','.#.....#...##.#.#..#...#.......','.......#.........#......#.#....','#.##.....##.......#....#.......','##.#.#.........##..#.....#....#','....#.#.#.#....#..#..##.......#','#...#...........#.#............','...#...#.#..#..##..............','......#.......#.........#..#.#.','#.....##.#....#...#..#.........','#...#..###.##..###...##.....#..','#....#.#.#...#.#..........#....','................#.#....#.....##','#.##..............####.....#.##','................#.....#........','#...#..#......#.....#......#...','.........##...........#...#...#','#.#....#...##.....#.....#..#..#','.....#...##..##.............#..','....###.#.......#.........#...#','..#.......#......#..#...#.#....','#.#....#......#.##....#.##.#...','.#.#...#.......#.#...#.##..#...','..........#......#.....#.......','........#...#.....#...##...#.#.','.....##....#.##..#........#.##.','..........##.....#..#........#.','.#....#..#.......#.##..........','.#..#..#...#...#........#.##...','.#...#.##.......#...#........#.','.....#....#.............#..#...','...#....##...#...#.....##......','#.#####.........##...#.....#...','......#.......#....#.....#..#..','..#..............#.#..#..#.....','....#.................#...#....','###.#..##.#....#...#.#......#.#','..##......#.#........#.#...##..','.....#...#...#..#.#..#..##..#..','.##...#......#...#...##.#...#..','.......###.#...........##.##...','.#.##..#.#.###.......#..##...#.','..#....#.......#..##......#....','.#....#.#..#..#.#.#....#...#...','..........##....#....#.#.......','.....#.......#.#..###.#.###....','.#.#....#.##..#.#..#.....#.#.#.','....#.....#.#.#............#...','.###....#...##......##..###..#.','...#.#..#.....#...#....##..#...','.#.#....#..........#...##.....#','#.....##...#........#.#..##..#.','.......#....#.#..........#...#.','.........#..#.#.###.........##.','..................#.#....#....#','....#....#.#..#.......###.##.##','....#...#.................#....','...#..#####.......#.#..##.##...','##.#....#...............#..#...','....#..........#...........#.#.','..##.#.##.#..#.#....#..........','.....#....#....##.#....#....#.#','.......#..##.....###...#....#.#','.#.......#..#.#.#...........#..','.#...........##.#.##....#.#....','....#.#....#.#.#......##.......','.........##......#.#.....###...','........#.#...#.##.....#.##.##.','##.#..##.#.........#....#......','.#.#.#....#..........#.#....#..','....###.........#.#.#..........','#..#....##.....#...............','#.##....#.#...#.....#......#.#.','............#.##........#......','.....#.#.....##..##............','.##..........#.......#......#..','...##..##......#.....#..#....##','.##.##...#.................##..','#....#.#........#..#....#..##.#','....##..##......#....###.#.#..#','.....#....#..#..#...##...#...#.'\n",
        "]\n",
        "tree = int(0)\n",
        "xposition = int(0)\n",
        "yposition = int(0)\n",
        "\n",
        "for i in range(1,len(map)+1):\n",
        "  if yposition >= len(map[0]):\n",
        "    yposition = yposition - len(map[0])\n",
        "  position = (map[xposition][yposition])\n",
        "  if position == '#':\n",
        "    tree = tree + 1\n",
        "  xposition = xposition + 1\n",
        "  yposition = yposition + 3\n",
        " \n",
        "print(\"Day 3 - Q1 answer. You would hit {} trees\".format(tree))  "
      ],
      "execution_count": null,
      "outputs": [
        {
          "output_type": "stream",
          "text": [
            "Day 3 - Q1 answer. You would hit 274 trees\n"
          ],
          "name": "stdout"
        }
      ]
    },
    {
      "cell_type": "markdown",
      "metadata": {
        "id": "63Tp1ouK-Ia6"
      },
      "source": [
        "Day 3 - Q2 - Trees and toboggans cont."
      ]
    },
    {
      "cell_type": "code",
      "metadata": {
        "colab": {
          "base_uri": "https://localhost:8080/"
        },
        "id": "Sgyf8iLHHXYA",
        "outputId": "d1a9e0b9-f8b9-4e20-f2ee-0ad032d62bad"
      },
      "source": [
        "map = ['......#..##..#...#...#.###.....','#..#............#..........#...','..........#....#..........#....','....#..#.#..........#..#.....#.','#.......#...#......#........###','#####........#.#....##..##..#..','......#.#..#..#..##.#..#.##....','.#..#.#..............##....##..','..##......#....#........#...###','...#....#.#....#.#..#......#..#','..................#.....#.....#','#.#...#...#....#............#.#','.#...#.....#...##........#.....','...#....#........#..#....#..###','#...##.....##.#.#...........#.#','.###........#.#.#.........#....','...#.............###.....#.#..#','.####.#..#....#.....#.........#','.#.#........#.#.....#.....#....','.#.......#................##.##','...#.#..#...###.....#....#..##.','...#....##..#............##...#','#...#............######...#.##.','.........#........#.#...#..##..','.....###..#.#.....##.#.#......#','..#.#...#.#..#.#.##..#.....#.#.','..#......#.#....#...#..........','..#...#.....#.#...##.....#.....','.##...........####........##...','....#............#.#...........','.....####.........#.##....###..','#..#..#.#..............#.#.....','...#.#........#.........#......','......#.#.#...#.....#....#.....','........#.#...#####..#..#......','.....#.#....#....#...........##','.#...#.........#.......##......','.#.##..##......#...............','...#.....#.......#.#.#.........','.........#..#...#...#.#.##....#','.#......##....#..#.........#...','....#.....#........#.........##','......#...........##...........','.....#..............###.#....#.','........#..#...#..#..#..#..#.#.','.#.....#.##.#..#..#.#.....#....','...#....#...#.#.....##.#...#..#','#..#......#..#.###...........#.','.##...##.#........#.#......#.#.','...#.#..#.#.......#..###...##..','#.......#.#....#..........#....','.#.....#..#.#.#..#..#........#.','.#...#......#.#...#.##.....#.##','...######..#.#....#.........##.','#.#.......................#....','..#..##...#...#.#..##.......#..','.##..#.......##......##.#..#...','#.#....##.......#..#...........','..#...#............#..#........','........#.#.........#...#..#..#','.#...###...............##...#..','...........#.....#....#....###.','#..#....##..#................##','...#.#..#..##......#....##....#','...#.##...#....#..#....#.......','#...##..##.#.........#...#....#','.##........###.#..........#....','..#..#..#...#.##..#.#......#...','.......##..#....###.##.....#..#','#....#...#.#.....#..###....##..','.#.......#.........#....#.#..#.','.........#.......#.#.......#...','..........#...##..#...#....#.##','..#........#.......#...........','#....#.....##......#....#.#...#','......#.....#....#.....#..#....','.#....##...#...##..............','..#....#......#...#....#...#...','#....###...##..#.#....##......#','..#.......#.........#..#......#','...#...#.##.......#....##..#...','..#.#...#.##..#..#..#...#.#...#','.#.........###....#....#.....#.','.#.##.#..##..#...........#....#','....##..#..##.#.......#....#..#','....#..#.........##..#......#.#','..........#.#.#....##.#......##','.##...#....###...#..........#..','#..#.....#..#.#.#.#..#......#.#','......#....#......##.#......#.#','...#.....#.......#....#.......#','.#.#................#..........','......#..#..#...............##.','##......#...#.####....#.#.#....','...#..##............#....#.....','..#..#.#...#..................#','.##.#.#..##.###.....#..#.......','..#...#.#...#......#..#........','.###..........##...###..##..#..','#.#...#........#.......##......','..##...#........#....##...##...','.......#.##.....#.#.##..#..##..','........#............#....##...','...#.#.#..#.........#.#.......#','..#..##.##...#.##...#....#...#.','.....##.#...##............##...','.#...#.###....#.......#...#...#','.......#######.#....#.....#.#..','......#.......#............##..','.....#...........#......#.....#','........#....#.##.#............','.#........#.......##.#.#....#..','#.....#..####.#................','.....#.......................##','.#.....#..##.#..##........#.#.#','#...##....#..##................','......##.###..........#.....#..','.#........#...#..............##','..#..........###.........#.....','....#.....##....#..#..#.#.#....','....#.......#.##...#.####.#....','#........#............#.##.....','..#......##.....#..#...#.......','..#......###...#.##......#..#..','#..#..#............#..#.###....','...##.........#..##...#..#.#...','..#.###..#.##.#........#..#....','......#..###.#........#........','.#....#.#..#.....#..#..#.......','#.....##.##...#...###.#.#..#.#.','.#....#..#.........#..#....###.','......##.####...#....#........#','##..#........#..#..##...#......','#.........#.........#...#..#.#.','..........#...................#','###....#....#....#......###...#','#....##........#..###.#..#.....','.#......#.....#.#.........#..#.','...#.......##.....#.........###','..............#........#.....##','....#.#..#.....###.#....##.....','.........#..##.#....#.#........','...#....#.......#.#.#..#.#....#','...........#...#..........#.#..','#.................##........###','####..#.#..#...#.....###.......','..#.#......##.#.......#........','.......##........#..#.....#..#.','...#..#......#..#.#.......###..','#....#...##..#.#.#.#.........#.','....#....#....#.#..#..........#','...###........#.#.###......##..','................#.....#.#...##.','..#..#.###...........#...###.#.','.........................#..#.#','#...#..#..##.###.....##.##.#...','...#..................#.#....#.','......#..##.#.......#.......#..','.##....#.#................#....','.#...#..#.#.#....##....#.......','.##......#.....#..........#....','..#...........#..##.........#..','....#.#...........#..........##','....#.#.#...........#.#........','......#.....#..#....##....##...','............##...##......#.#.##','#.#.....#..#....#..#...#.#...#.','.#...###..#..#.......#.......#.','.....#..#.##.....#....#...#....','##.....#..##.......##..#.#.#..#','....#.#......##....#.....#..###','.#...#.#......#.##...#..##.....','.#...#...#......##..#..#...#.#.','.#.........#....##...###...##..','###.....#......####.....#.#....','.....#..##.##................#.','.#.................#...#..##.#.','....#....#..#.......#.....#....','.##....#..#..#.....###.#..#..#.','#.#.......#.....##...#.....#...','#.#........#.#.###...#....#....','.#.....#.....##.#...#..#.......','..###.#............#...##.###..','.....#.....#..#..##............','.#.#..#.#..##..#....#...##.....','.#...........#..#.......#...#.#','#.#.#.#.....##....#............','...#.................#.#......#','.....##.............#...#.#....','.##......#.#....#..........#.#.','.#.##.......##...#...#.....#.#.','#...#.#........#......##....#.#','#....##....#....#...#..#..#.#.#','......#..........#...#.....#..#','#..#....#....#..##.#..#.#...#..','......#..#.#....#.....#.#..#..#','...#.#...###........#.#......##','..#............................','...#.#..##...##...#...#......##','...#.####......#.........#....#','.#...#.#...##....#......#.#....','.#.....##..##.#................','.#...............#.............','......#.....#...#..##..##......','...#..##.......#.......#..#.#.#','......##.....#..#.....#...#.#.#','........##........#.#........##','.#....#.....###..#.......#...#.','#...#....#.........#.......#...','...##..#........#####.#........','###..#....#.#..#...#.####......','..#..........#.#.............#.','#......#.#....#.#.#....#.##....','.#.#.#.............#....#...#..','......#.....#.#...#..###.#..#..','.....#..#............#...#...##','..#......###..#........#.#.....','#..##......#.#.#.#...........#.','#..#...##.##.....#....#..#.....','...##.#..........#.#....#...#..','.#.#.#.#..#.#...#......#.......','....#......###.#...............','.........#...#....#...#.#....#.','##.#.........#...##............','........#..........#.#...#.....','..#........#....#.......#......','#..#...............#..#...##.#.','#........#.....##.#..#....#...#','..##....#....#.#...........##..','....#.#.........#..#.....#..#..','.......##....#.#.#....###.#....','......#....#.#...#..#.........#','.....##..#....#.#......#.#.#...','#.##..##.#.......#..#...##.#.##','........#.#..#...##.#.#..#.....','#..#......#......#...#.#..#....','.....#......#.#....##....##....','....#.##...##..#..........##.#.','.#....#.......#.........#......','.#.......#.#...#...............','....#.##.......#.##..#.##..#...','#..#.......#.....#..#..........','..#.##.......#....#.#..##..#...','.#.....#...##.#.#..#...#.......','.......#.........#......#.#....','#.##.....##.......#....#.......','##.#.#.........##..#.....#....#','....#.#.#.#....#..#..##.......#','#...#...........#.#............','...#...#.#..#..##..............','......#.......#.........#..#.#.','#.....##.#....#...#..#.........','#...#..###.##..###...##.....#..','#....#.#.#...#.#..........#....','................#.#....#.....##','#.##..............####.....#.##','................#.....#........','#...#..#......#.....#......#...','.........##...........#...#...#','#.#....#...##.....#.....#..#..#','.....#...##..##.............#..','....###.#.......#.........#...#','..#.......#......#..#...#.#....','#.#....#......#.##....#.##.#...','.#.#...#.......#.#...#.##..#...','..........#......#.....#.......','........#...#.....#...##...#.#.','.....##....#.##..#........#.##.','..........##.....#..#........#.','.#....#..#.......#.##..........','.#..#..#...#...#........#.##...','.#...#.##.......#...#........#.','.....#....#.............#..#...','...#....##...#...#.....##......','#.#####.........##...#.....#...','......#.......#....#.....#..#..','..#..............#.#..#..#.....','....#.................#...#....','###.#..##.#....#...#.#......#.#','..##......#.#........#.#...##..','.....#...#...#..#.#..#..##..#..','.##...#......#...#...##.#...#..','.......###.#...........##.##...','.#.##..#.#.###.......#..##...#.','..#....#.......#..##......#....','.#....#.#..#..#.#.#....#...#...','..........##....#....#.#.......','.....#.......#.#..###.#.###....','.#.#....#.##..#.#..#.....#.#.#.','....#.....#.#.#............#...','.###....#...##......##..###..#.','...#.#..#.....#...#....##..#...','.#.#....#..........#...##.....#','#.....##...#........#.#..##..#.','.......#....#.#..........#...#.','.........#..#.#.###.........##.','..................#.#....#....#','....#....#.#..#.......###.##.##','....#...#.................#....','...#..#####.......#.#..##.##...','##.#....#...............#..#...','....#..........#...........#.#.','..##.#.##.#..#.#....#..........','.....#....#....##.#....#....#.#','.......#..##.....###...#....#.#','.#.......#..#.#.#...........#..','.#...........##.#.##....#.#....','....#.#....#.#.#......##.......','.........##......#.#.....###...','........#.#...#.##.....#.##.##.','##.#..##.#.........#....#......','.#.#.#....#..........#.#....#..','....###.........#.#.#..........','#..#....##.....#...............','#.##....#.#...#.....#......#.#.','............#.##........#......','.....#.#.....##..##............','.##..........#.......#......#..','...##..##......#.....#..#....##','.##.##...#.................##..','#....#.#........#..#....#..##.#','....##..##......#....###.#.#..#','.....#....#..#..#...##...#...#.'\n",
        "]\n",
        "xslopes= [1,1,1,1,2]\n",
        "yslopes= [1,3,5,7,1]\n",
        "answer=1\n",
        "for w in range(0,len(xslopes)):\n",
        "  xposition = int(0)\n",
        "  yposition = int(0)\n",
        "  tree = int(0)\n",
        "  for i in range(1,len(map)+1):\n",
        "    if xposition <= len(map):\n",
        "      if yposition >= len(map[0]):\n",
        "        yposition = yposition - len(map[0])\n",
        "      position = (map[xposition][yposition])\n",
        "      if position == '#':\n",
        "        tree = tree + 1\n",
        "      xposition = xposition + xslopes[w]\n",
        "      yposition = yposition + yslopes[w]\n",
        "  answer = answer*tree\n",
        "\n",
        "print(\"Day 3 - Q2 answer. You would hit product of {} trees on these {} paths\".format(answer,len(xslopes)))"
      ],
      "execution_count": null,
      "outputs": [
        {
          "output_type": "stream",
          "text": [
            "Day 3 - Q2 answer. You would hit product of 6050183040 trees on these 5 paths\n"
          ],
          "name": "stdout"
        }
      ]
    },
    {
      "cell_type": "markdown",
      "metadata": {
        "id": "h5xqT7iy-CWs"
      },
      "source": [
        "---\n",
        "Day 4 - Passports and Passengers\n",
        "---\n",
        "Q1 - Which passports are valid\n"
      ]
    },
    {
      "cell_type": "code",
      "metadata": {
        "id": "7Sc49toq-EM4",
        "colab": {
          "base_uri": "https://localhost:8080/"
        },
        "outputId": "d1b22650-9be6-49c9-adc4-67ecb1a46036"
      },
      "source": [
        "passinput = open('day4-passport.txt', 'r').read().replace('\\n','NEWLINE')\n",
        "passinput = passinput.replace('NEWLINENEWLINE','\\n')\n",
        "passinput = passinput.replace('NEWLINE', ' ')\n",
        "start = 0\n",
        "end = 0\n",
        "valid = 0\n",
        "necesary = ['byr:','iyr:','eyr:','hgt:','hcl:','ecl:','pid:']\n",
        "\n",
        "while end > -1:\n",
        "  end = passinput.find('\\n',start)\n",
        "  check = passinput[start:end]\n",
        "  start = end+1\n",
        "  if all(x in check for x in necesary):\n",
        "    valid += 1\n",
        "  \n",
        "print('Day 4 - Q1 answer. There are {} valid passports'.format(valid))"
      ],
      "execution_count": 132,
      "outputs": [
        {
          "output_type": "stream",
          "text": [
            "There are 200 valid passports\n"
          ],
          "name": "stdout"
        }
      ]
    },
    {
      "cell_type": "markdown",
      "metadata": {
        "id": "72qa4VWVwvua"
      },
      "source": [
        "Day 4 - Passport validation continued"
      ]
    },
    {
      "cell_type": "code",
      "metadata": {
        "colab": {
          "base_uri": "https://localhost:8080/"
        },
        "id": "bOEBTpGknHrD",
        "outputId": "4be88e4f-1daa-4b0f-c1e1-79792acfe933"
      },
      "source": [
        "passinput = open('day4-passport.txt', 'r').read().replace('\\n','NEWLINE')\r\n",
        "passinput = passinput.replace('NEWLINENEWLINE','\\n')\r\n",
        "passinput = passinput.replace('NEWLINE', ' ')\r\n",
        "start = 0\r\n",
        "end = 0\r\n",
        "valid = 0\r\n",
        "checker = 0\r\n",
        "run = True\r\n",
        "necesary = ['byr:','iyr:','eyr:','hgt:','hcl:','ecl:','pid:']\r\n",
        "eyecolor = ['amb','blu','gry','grn','hzl','oth']\r\n",
        "\r\n",
        "while end > -1:\r\n",
        "  end = passinput.find('\\n',start)\r\n",
        "  check = passinput[start:end]\r\n",
        "  start = end+1\r\n",
        "  if all(x in check for x in necesary):\r\n",
        "    byr = int(check[check.find('byr')+4:check.find('byr')+8])\r\n",
        "    iyr = int(check[check.find('iyr')+4:check.find('iyr')+8])\r\n",
        "    eyr = int(check[check.find('eyr')+4:check.find('eyr')+8])\r\n",
        "    ecl = check[check.find('ecl')+4:check.find('ecl')+7]\r\n",
        "    hgt = check[check.find('hgt')+4:check.find('hgt')+9]\r\n",
        "    hcl = check[check.find('hcl')+4:check.find('hcl')+11]\r\n",
        "    pid = check[check.find('pid')+4:check.find('pid')+13]\r\n",
        "    print(byr,iyr,eyr,ecl,hgt,hcl,pid)\r\n",
        "    checker +=1\r\n",
        "    if (1920 <= byr <= 2002) and (2010 <= iyr <= 2020) and (2020 <= eyr <= 2030) and (hcl[0] == '#' and len(hcl) == 7) and (ecl in eyecolor) and (pid.isdecimal() == True) and (('cm' in hgt and 150 <= int(hgt[0:hgt.find('cm')]) <= 193) or ('in' in hgt and 59 <= int(hgt[0:hgt.find('in')]) <= 76)):      \r\n",
        "      valid +=1\r\n",
        "\r\n",
        "      \r\n",
        "print(checker,valid)\r\n",
        "    \r\n",
        "jon = '101 is too low and 145 is too high'\r\n",
        "\r\n",
        "      \r\n",
        "  \r\n",
        "\r\n",
        "print('Day 4 - Q2 answer. There are {} valid passports'.format(valid))"
      ],
      "execution_count": 232,
      "outputs": [
        {
          "output_type": "stream",
          "text": [
            "1937 2015 2030 brn 158cm #c0946f 154364481\n",
            "1985 2025 2029 amb 179in z iyr:2 675014709\n",
            "1953 2011 2023 brn 181cm #341e13 282499883\n",
            "1966 2014 2020 gry 153cm #866857 900693718\n",
            "1939 2020 2020 oth 162cm #b6652a 900852891\n",
            "2012 1956 2003 #9b 167in 2385ac  483285062\n",
            "1938 2011 2020 gry 180cm #c0946f 136823471\n",
            "1973 2020 2030 blu 187cm #888785 386799181\n",
            "2029 2028 1962 #db 113 z iyr:2 193cm byr\n",
            "1928 2017 2027 blu 189cm #c0946f 604152679\n",
            "2019 2011 1967 xry 162 e z cid:1 653548437\n",
            "1979 2018 2026 hzl 151cm #7d3b0c 981366150\n",
            "1989 2016 2025 grn 159cm #a97842 055334062\n",
            "2004 2023 2033 brn 170cm #602927 #299cf2 h\n",
            "1986 2020 2021 blu 152cm #c0946f 038972962\n",
            "1922 2012 2028 blu 154cm #9dc667 015622106\n",
            "1949 2017 2021 brn 162cm #6b5442 104071480\n",
            "1963 2019 2022 amb 190cm #fffffd 388871409\n",
            "1968 2018 2030 grn 155cm #6b5442 891458997\n",
            "1979 2026 2031 #fc 171 b z cid:1 076174078\n",
            "1958 2011 2020 gry 189cm #f8063e 684921958\n",
            "1953 2010 2030 gry 165cm #341e13 683095019\n",
            "1964 2014 2027 amb 184cm #733820 000303662\n",
            "1999 2012 2022 grn 150cm #341e13 950260967\n",
            "1941 2023 2023 amb 154cm #fffffd 759578668\n",
            "1956 1947 1964 grn 172in z hgt:1 18101245 \n",
            "2025 1978 1980 #3e 181in #efcc98 #8d62b1 e\n",
            "2015 2019 2027 #1a 64cm  3bc533  158cm eyr\n",
            "1941 2011 2020 gry 179cm #602927 739854643\n",
            "1927 2011 2026 grn 167cm #a97842 527353688\n",
            "1994 2020 2027 oth 162cm #fffffd 578918570\n",
            "2007 1955 1968 #76 97 hc z eyr:1 #871dc8 i\n",
            "2011 2023 1962 #d7 76cm 9ac7b8  683610555\n",
            "2013 2030 2016 #d4 107 p b80af7  948192703\n",
            "1921 2017 2027 brn 59in #c0946f #27d2a6 b\n",
            "1962 2013 2020 brn 152cm #2afabd 381950515\n",
            "1950 2016 2023 gry 158cm #ceb3a1 252068098\n",
            "1922 2019 2025 amb 187cm #a97842 045338811\n",
            "1938 2019 2022 blu 176cm #a97842 610286298\n",
            "2025 2028 2039 #a8 69 hc z 72530856 \n",
            "1983 2016 2020 oth 72in  #733820 531154383\n",
            "1929 2013 2020 oth 178cm #623a2f 562756202\n",
            "1951 2016 2020 brn 169cm #866857 844496997\n",
            "1938 2019 2030 hzl 68in #b6652a 083641628\n",
            "1925 2026 2036 #62 162cm c84fda  #80d5e6 b\n",
            "1952 2013 2022 brn 176cm #efcc98 541033681\n",
            "2011 2004 2034 #d9 59cm  7aa29f  #3ab4b4 h\n",
            "1991 2011 2024 brn 67cm  #cfa07d 631601343\n",
            "2020 1944 2026 gry 107 h 6d8593  421649652\n",
            "1952 2010 2030 #8f 186cm #866857 27713962 \n",
            "1989 2020 2023 blu 74in #18171d 480641 iy\n",
            "1968 2013 2023 amb 157cm #efcc98 436599087\n",
            "1943 2015 2021 hzl 175cm #efcc98 701245439\n",
            "2001 2011 2021 oth 164cm #b6652a 310546869\n",
            "2016 2009 1922 hzl 155cm 94f4b9  83440078\n",
            "1948 2014 2031 grt 60in  #c0946f 117909137\n",
            "1965 2010 2029 grn 186cm #602927 806868279\n",
            "1952 2016 2026 gry 158cm #619e03 925865182\n",
            "1955 2015 2025 brn 175cm #fffffd 317239854\n",
            "1939 2019 2030 blu 192cm #3332c0 832588457\n",
            "2025 2012 2025 oth 64cm  z iyr:2 039468380\n",
            "1966 2018 2025 amb 65in  #fffffd 734257450\n",
            "2022 1978 1981 #b9 69cm  d7c488  55277333 \n",
            "1970 2011 2030 hzl 168cm #866857 052204052\n",
            "1932 2010 2029 hzl 166cm #888785 318707043\n",
            "2006 2010 2039 oth 73cm z iyr:2 #15d5ef e\n",
            "2008 2027 2036 #09 193in 96c534  603339169\n",
            "2009 2029 2040 utc 71cm 2a32b8  584550073\n",
            "1994 2015 2026 blu 176cm #623a2f 678627790\n",
            "2005 1983 2039 zzz 62cm  z ecl:z #47729a e\n",
            "1933 2014 2025 blu 174cm #cfa07d 824483836\n",
            "1945 2010 2023 amb 70in  #a97842 093704222\n",
            "1986 2020 2029 brn 156cm #602927 422160398\n",
            "1972 2017 2021 brn 64in  #866857 159cm byr\n",
            "1928 2016 2027 grn 188cm #341e13 884038003\n",
            "1935 2018 2028 amb 60in  #602927 020315021\n",
            "1987 2011 2027 hzl 189cm #623a2f 767923916\n",
            "1971 1978 2030 hzl 152in #efcc98 499148724\n",
            "2015 2016 2024 gry 155cm e2a5de  #87513f h\n",
            "1977 2028 2026 brn 165in #888785 69801913 \n",
            "1938 2014 1972 gry 154cm #efcc98 621714851\n",
            "1982 2019 2023 oth 184cm #a97842 009682326\n",
            "1940 2017 2020 gry 76in #ceb3a1 700761574\n",
            "1924 2017 2028 hzl 177cm #efcc98 363441284\n",
            "1989 2017 2023 oth 162cm #a97842 589573553\n",
            "2001 2015 2028 oth 167cm #18171d 253666913\n",
            "1943 2025 2026 amb 76 ey #888785 163cm iyr\n",
            "1992 2016 1922 gry 167cm f81436  43290252 \n",
            "1971 2018 2021 oth 167cm #888785 487300118\n",
            "2013 2022 2036 dne 94 by 37408d  527721797\n",
            "1973 2001 2023 gry 65in  5e67df  48217944 \n",
            "2009 2028 1996 #e2 184cm 717ef8  154cm ecl\n",
            "1993 2015 2025 gry 151cm #efcc98 549968053\n",
            "1927 2020 2027 gry 165cm #602927 278946330\n",
            "1931 2014 2028 oth 191cm #6b5442 928740840\n",
            "1923 2019 2021 amb 191cm #7d3b0c 781290431\n",
            "2027 2028 2036 gry 165in z eyr:2 51702036 \n",
            "1971 2012 2021 blu 68in #888785 986042111\n",
            "2030 2013 2028 hzl 183cm 59c2ce 989002507\n",
            "1964 2020 2025 gry 185cm #888785 895856989\n",
            "1977 2017 2027 brn 184cm #733820 242773849\n",
            "2012 1994 2027 hzl 167 h z byr:2 590438786\n",
            "1944 2015 2024 blu 74in #888785 279218875\n",
            "1973 2019 2033 utc 178cm z ecl:u #e7abc0\n",
            "1998 2019 2026 blu 177cm #602927 770052780\n",
            "1986 2016 2023 blu 167cm #cfa07d 643597545\n",
            "1931 2017 2028 oth 168cm #602927 017818204\n",
            "1984 2010 2025 grn 191cm #efcc98 408382086\n",
            "1929 2017 1957 #25 158cm z 036774455\n",
            "1977 2015 2024 amb 168cm #b6652a 006609828\n",
            "1995 2014 2024 hzl 185cm #c0946f 423029177\n",
            "2010 2020 2021 #a8 179in #733820 #3e3109 e\n",
            "1938 2017 2022 amb 157cm #733820 162425330\n",
            "2015 1948 1972 #c7 151 e z hgt:1 453068549\n",
            "2018 2028 1998 dne 122 h z ecl:d #c604ca h\n",
            "1963 2011 2021 hzl 172cm #888785 483557353\n",
            "1969 2017 2030 brn 161cm #fffffd 632930895\n",
            "2000 2015 2029 brn 156cm #64bf85 525557240\n",
            "1999 2019 2026 grn 134 p #888785 745552484\n",
            "2001 2012 2028 oth 173cm #fffffd 984678649\n",
            "1972 2012 2026 amb 160cm #341e13 308853935\n",
            "1932 2021 2024 grn 151 e z hgt:1 132866718\n",
            "1923 2017 2027 oth 174cm #733820 099185839\n",
            "1941 2017 2023 gry 74in  #888785 540930352\n",
            "1928 2020 2030 blu 161cm #866857 358953579\n",
            "2008 2015 1930 utc 155cm #733820 163cm byr\n",
            "1946 2015 2025 hzl 164cm #a97842 168804387\n",
            "1996 2011 2030 amb 184cm #7d3b0c 940497049\n",
            "2012 2024 1964 #77 157in #866857 741843390\n",
            "2002 2026 2025 brn 70cm  #18171d 720946735\n",
            "1987 2017 2021 grn 165cm #623a2f 087526326\n",
            "1966 2017 2021 blu 152cm #c88693 142615460\n",
            "2029 2015 1944 dne 65cm  z hgt:6 106676876\n",
            "2009 2010 2037 gmt 152in z pid:2 25144284 \n",
            "2020 2012 1993 xry 178in ed6b8a  36832491 \n",
            "1972 2009 2021 grn 160 h z cid:2 324213657\n",
            "1967 2015 2021 blu 156cm #fffffd 955035528\n",
            "2011 1973 2038 grt 193in z eyr:2 41385449 \n",
            "1934 2016 2026 blu 157cm #866857 713339056\n",
            "2012 2013 2022 hzl 186cm #733820 226693031\n",
            "1929 2012 2024 brn 162cm #cfa07d 083005744\n",
            "1998 2020 2028 hzl 175cm #341e13 857980686\n",
            "1974 2015 2023 gry 169in #ceb3a1 833031763\n",
            "2001 2018 2021 oth 162cm #7d3b0c 370671195\n",
            "1949 2015 2029 amb 182cm #b7144c 832774982\n",
            "1996 2013 2023 oth 66in  #fffffd 981508704\n",
            "1932 2011 2030 hzl 169cm #c0946f 994763987\n",
            "2006 1998 2031 gmt 59cm  z byr:2 #349a7f\n",
            "1971 2013 2024 oth 153cm #7d3b0c 549500594\n",
            "1940 2015 2027 amb 158cm #cfa07d 798926275\n",
            "1956 2023 1945 brn 152 #602927 077141823\n",
            "2007 2022 2033 gmt 170cm f87f81  840483174\n",
            "2029 1958 2032 dne 170cm 840fbe  19403738 \n",
            "1934 2011 2025 brn 188cm #623a2f 864743117\n",
            "1954 2010 2027 oth 182cm #7d3b0c 877675472\n",
            "1972 2020 2021 grn 176cm #602927 395161956\n",
            "1933 2010 2029 gry 155cm #6b5442 040244553\n",
            "1985 1960 1955 #8f 150in z pid:1 11609858 \n",
            "2002 2011 2037 amb 150cm #fffffd 337375886\n",
            "1952 2014 2025 oth 155cm #866857 614859979\n",
            "1997 2010 2020 amb 156cm #623a2f 225568504\n",
            "1956 1954 2040 dne 71cm  #341e13 838134394\n",
            "1994 2014 2027 amb 168cm #602927 758176176\n",
            "1921 2018 2030 gry 189cm #941519 947783104\n",
            "2029 1956 1926 xry 65cm  #6b5442 924005209\n",
            "1975 2011 2027 grn 177cm #fffffd 825090410\n",
            "1934 2010 2027 amb 66in  #733820 133141914\n",
            "2018 1951 1977 #bb 85 ey 89fcbf  #13265f h\n",
            "1942 2013 2021 hzl 155cm #324bed 758516520\n",
            "2005 2015 2028 gry 60cm  276a6d  #567782 i\n",
            "1922 2017 2030 grn 191cm #18171d 748729106\n",
            "1984 2013 2020 hzl 64in  #733820 444446114\n",
            "2006 2029 2023 dne 68cm  z eyr:2 131910019\n",
            "1968 1976 2017 oth 68cm  45191a  153cm byr\n",
            "1959 2015 2023 gry 167cm #ceb3a1 781945569\n",
            "1959 2013 2029 gry 151cm #7d3b0c 069205247\n",
            "1975 2017 2026 brn 173cm #a97842 681437369\n",
            "1993 2013 2028 hzl 158cm #866857 298214774\n",
            "1938 2011 2028 gry 164cm fbd462  029003659\n",
            "1999 2012 2024 gry 171cm #a97842 041799326\n",
            "1961 2018 2020 hzl 155cm #efcc98 617022365\n",
            "1977 2015 2020 grt 163cm #733820 385763432\n",
            "1979 2025 2037 dne 186in d93e3e  187cm\n",
            "1929 2018 2020 grn 181cm z ecl:g 334374178\n",
            "1990 2014 2026 amb 186cm #888785 827526879\n",
            "2007 2016 2022 hzl 167cm #653b4c #27024c\n",
            "2025 2016 2000 dne 177cm z cid:3 345555418\n",
            "2027 2022 2040 #3a 62cm 70fbf6  644624005\n",
            "2020 2029 2022 dne 153in z eyr:2 #3a3560 h\n",
            "1958 2010 2029 amb 193cm #602927 343803154\n",
            "1987 2017 2027 blu 178cm #866857 222443921\n",
            "1964 2001 1945 #ac 180cm #fffffd 305189916\n",
            "1979 2014 2028 brn 166cm #5311ca 874418818\n",
            "1987 2019 2027 grn 161cm #6b5442 986096798\n",
            "1965 2010 2023 brn 185cm #866857 214991920\n",
            "1948 2010 2025 hzl 175cm #18171d 885169578\n",
            "1968 2024 2030 oth 186 b 2653c9  34655368 \n",
            "1960 2015 2026 #ef 61in  #c0946f 739274357\n",
            "1986 1950 2021 gry 159cm #888785 325442644\n",
            "1979 2014 2023 blu 188cm #b6652a 945115479\n",
            "200 101\n",
            "Day 4 - Q2 answer. There are 101 valid passports\n"
          ],
          "name": "stdout"
        }
      ]
    }
  ]
}